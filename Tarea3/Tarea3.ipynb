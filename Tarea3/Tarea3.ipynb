{
 "cells": [
  {
   "cell_type": "markdown",
   "id": "0ddb4ab6-0e9d-427e-832a-db08f429c96c",
   "metadata": {},
   "source": [
    "<img src=\"fotos/logo_uach.png\" alt=\"UACh\" style=\"height: 200px; display: block;margin-left: auto;margin-right: auto;\"/>\n",
    "\n",
    "# Tarea 3: Ventaneo de señal de audio\n",
    "+ Cristóbal González (cristobal dot gonzalez04 at alumnos dot uach dot cl)\n",
    "+ Joaquin Toledo (joaquin dot toledo01 at alumnos dot uach dot cl)"
   ]
  },
  {
   "cell_type": "markdown",
   "id": "318cfd69-bfb6-4be0-ad0c-8a19b948bd3f",
   "metadata": {},
   "source": [
    "### Índice\n",
    "+ [1. Introducción](#id1)\n",
    "+ [2. Uso del ventaneo](#id2)\n",
    "+ [3. Propiedades de ventaneo](#id3)\n",
    "   - [3.1 Rectangular](#id3.1)\n",
    "   - [3.2 Bartlett (triangular)](#id3.2)\n",
    "   - [3.3 Hann](#id3.3)\n",
    "   - [3.4 Hamming](#id3.4)\n",
    "   - [3.5 Blackman](#id3.5)"
   ]
  },
  {
   "cell_type": "markdown",
   "id": "4ba8f3f6-2aa5-47f9-9195-68cb02dedc14",
   "metadata": {},
   "source": [
    "## 1. Introducción <a name='id1'></a>\n",
    "\n",
    "Los ventaneos fueron introducidos por Duffin y Schaeffer en el año 1952 para el estudio de las series de Fourier no armónicas. La idea principal es representar una señal mediante sus proyecciones sobre una secuencia de elementos , sin restringirla a ser múltiplos de una frecuencia fundamental como en las series armónicas (tradicionales) de Fourier. Se puede ver fácilmente que el conjunto es muy sobrecompleto, en el sentido de que, por ejemplo, en un espacio, puede consistir en una secuencia de elementos o funciones que son mayores en número que una base.\n",
    "\n",
    "## 1. Uso del ventaneo <a name='id2'></a>\n",
    "\n",
    "El ventaneo se usa principalmente para la transformación de sistemas IIR en tiempo continuo en sistemas IIR de tiempo discreto. Por el otro lado, también se usan para el diseño de filtros FIR. Las técnicas de diseño de filtros FIR se basan en aproximar directamente la respuesta en frecuencia o la respuesta al impulso deseadas del sistema en tiempo discreto.\n",
    "\n",
    "El método más simple de diseño de filtros FIR se denomina método de enventanado. Este métodoparte generalmente de una respuesta en frecuencia deseada ideal que se puede representar como:\n",
    "\n",
    " * Agrega formula 7.53 pag 523\n",
    "\n",
    "siendo hd[n] la correspondiente secuencia de respuesta al impulso, que se puede expresar en función deHd(ejω ) como:\n",
    "\n",
    "* Agrega formula 7.54 pag 523\n",
    "\n",
    "Los sistemas que se definen de forma idealizada mediante respuestas en frecuencia constantes por tramos o suaves por tramos, con discontinuidades en los límites de las bandas, pueden presentar una respuesta al impulso no causal e infinitamente larga. Para obtener una aproximación FIR causal de estos sistemas, se suele truncar la respuesta al impulso ideal.\n",
    "\n",
    "+ En la Ecuación 1 se puede ver como el desarrollo en serie de Fourier de la respuesta en frecuencia periódica Hd(ejω), donde los valores de la secuencia hd[n] actúan como coeficientes del desarrollo en serie de Fourier.\n",
    "\n",
    "+ La aproximación de un filtro ideal mediante el truncamiento de la respuesta al impulso ideal es comparable al tema de la convergencia del desarrollo en serie de Fourier, un concepto que ha sido ampliamente estudiado en el campo de la teoría de señales y sistemas.\n",
    "\n",
    "\n",
    "## 3. Propiedades de ventaneo <a name='id3'></a>\n",
    "\n",
    "#### 3.1 Rectangular <a name='id3.1'></a>\n",
    "\n",
    "#### 3.2 Bartlett (triangular) <a name='id3.2'></a>\n",
    "\n",
    "#### 3.3 Hann <a name='id3.3'></a>\n",
    "\n",
    "#### 3.4 Hamming <a name='id3.4'></a>\n",
    "\n",
    "#### 3.5 Blackman <a name='id3.5'></a>\n",
    "\n",
    "\n",
    "Las ventanas de Bartlett, Hann, Hamming y Blackman deben todas su nombre a sus descubridores. La ventana de Hanning se debe a Julius von Hann, un meteorólogo austríaco, y se denomina a veces ventana de Hann. El término “hanning” fue utilizado por Blackman y Tukey (1958) para describir la operación de la aplicación de esta ventana a una señal y se ha convertido en el nombre más ampliamente utilizado de esta ventana, con preferencias variadas sobre la utilización del término “Hanning” o “hanning”. \n",
    "\n",
    "Hay alguna ligera variación en la definición de las ventanas de Barlett y Hann. Tal como las hemos definido, w[0] = w[M] = 0, por lo que sería razonable afirmar que, con esta definición, la longitud de la ventana es realmente de M−1 muestras. Otras definiciones de las ventanas de Barlett y Hann se relacionan con la nuestra mediante un desplazamiento de una muestra y una redefinición de la longitud\n",
    "de la ventana."
   ]
  },
  {
   "cell_type": "code",
   "execution_count": null,
   "id": "e117a5d4-0e1e-4382-914a-0636d0a6ae7e",
   "metadata": {},
   "outputs": [],
   "source": []
  }
 ],
 "metadata": {
  "kernelspec": {
   "display_name": "acus099",
   "language": "python",
   "name": "acus099"
  },
  "language_info": {
   "codemirror_mode": {
    "name": "ipython",
    "version": 3
   },
   "file_extension": ".py",
   "mimetype": "text/x-python",
   "name": "python",
   "nbconvert_exporter": "python",
   "pygments_lexer": "ipython3",
   "version": "3.10.13"
  }
 },
 "nbformat": 4,
 "nbformat_minor": 5
}
